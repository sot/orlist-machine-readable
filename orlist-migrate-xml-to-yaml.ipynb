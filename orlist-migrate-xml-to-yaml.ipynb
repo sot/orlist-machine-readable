{
 "cells": [
  {
   "cell_type": "markdown",
   "metadata": {},
   "source": [
    "# OR list machine-readable comments"
   ]
  },
  {
   "cell_type": "code",
   "execution_count": 1,
   "metadata": {},
   "outputs": [],
   "source": [
    "import sys\n",
    "import pprint\n",
    "from ruamel.yaml import YAML\n",
    "from parse_cm.or_list import read_or_list_full\n",
    "\n",
    "\n",
    "yaml = YAML(typ=\"safe\")  # default, if not specfied, is 'rt' (round-trip)"
   ]
  },
  {
   "cell_type": "code",
   "execution_count": 2,
   "metadata": {},
   "outputs": [],
   "source": [
    "import ruamel.yaml\n",
    "import textwrap\n",
    "\n",
    "\n",
    "def dedent_text(text):\n",
    "    text = text.lstrip(\"\\n\")\n",
    "    text = textwrap.dedent(text)\n",
    "    return text\n"
   ]
  },
  {
   "cell_type": "code",
   "execution_count": 3,
   "metadata": {},
   "outputs": [],
   "source": [
    "obsreqs, comments = read_or_list_full(\"example-xml.or\")"
   ]
  },
  {
   "cell_type": "code",
   "execution_count": 4,
   "metadata": {},
   "outputs": [
    {
     "data": {
      "text/plain": [
       "9"
      ]
     },
     "execution_count": 4,
     "metadata": {},
     "output_type": "execute_result"
    }
   ],
   "source": [
    "len(comments)"
   ]
  },
  {
   "cell_type": "code",
   "execution_count": 5,
   "metadata": {},
   "outputs": [
    {
     "name": "stdout",
     "output_type": "stream",
     "text": [
      "######## absolute_mon_window ########\n",
      "23871, 2022:169:06:28:06.976, 2024:009:06:28:06.976\n",
      "\n",
      "######## acis_fp_limit ########\n",
      "-109.0\n",
      "\n",
      "######## coordination_window ########\n",
      "NO COORDINATION WINDOW FOUND!!\n",
      "\n",
      "######## cycle_number ########\n",
      "23\n",
      "\n",
      "######## freeform_constraint ########\n",
      "Remarks:\n",
      "Three observations are requested: conjunction with Be star in front\n",
      "(phi=0.25), conjunction\n",
      "\n",
      "######## obs_group ########\n",
      "26488, 26489\n",
      "\n",
      "######## obs_group_duration ########\n",
      "2.7\n",
      "\n",
      "######## phase_window ########\n",
      "#Start,                 End\n",
      "2023:185:15:55:59.750, 2023:190:17:33:48.730\n",
      "\n",
      "######## pointing ########\n",
      "#roll_start, roll_stop, y_target_offset, z_target_offset, RA, Dec, z_sim_offset\n",
      "0.0, 20.0, 0.008333,\n",
      "\n",
      "######## relative_mon_window ########\n",
      "27012, 000:00:00:00.000, 014:00:00:00.000\n",
      "\n",
      "######## roll ########\n",
      "# min, max\n",
      "102, 222\n",
      "282,  42\n",
      "\n",
      "######## sequence_number ########\n",
      "201454\n",
      "\n",
      "######## si_modes ########\n",
      "TE_00D50, NULL, NULL, NULL, NULL, NULL\n",
      "\n",
      "######## slosh ########\n",
      "180\n",
      "\n",
      "######## split_duration ########\n",
      "14\n",
      "\n",
      "######## star_field_constraints ########\n",
      "#ROLL, nominal, creep\n",
      "81.00, -11.10, -10.10\n",
      "82.00, -10.80, -10.10\n",
      "83.00, -10.20, -10.10\n",
      "84.00, -10.1\n",
      "\n",
      "######## uninterrupted ########\n",
      "Y\n",
      "\n"
     ]
    }
   ],
   "source": [
    "import xml.etree.ElementTree as ET\n",
    "\n",
    "tags_all = {}\n",
    "for obsid, obsreq in obsreqs.items():\n",
    "    try:\n",
    "        xml_str = \"<root>\" + obsreq[\"comment\"] + \"</root>\"\n",
    "        root = ET.fromstring(xml_str)\n",
    "    except Exception as e:\n",
    "        print(obsid, e)\n",
    "        continue\n",
    "\n",
    "    tag_names = [elem.tag for elem in root]\n",
    "    for tag_name in tag_names:\n",
    "        if tag_name not in tags_all:\n",
    "            value = root.find(tag_name).text\n",
    "            tags_all[tag_name] = value\n",
    "\n",
    "for tag_name in sorted(tags_all):\n",
    "    value = tags_all[tag_name]\n",
    "    print(\"#\" * 8 + f\" {tag_name} \" + \"#\" * 8)\n",
    "    print(value.strip()[:100])\n",
    "    print()\n"
   ]
  },
  {
   "cell_type": "code",
   "execution_count": 6,
   "metadata": {},
   "outputs": [
    {
     "name": "stdout",
     "output_type": "stream",
     "text": [
      "<cycle_number>24</cycle_number>\n",
      "<sequence_number>590678</sequence_number>\n",
      "<si_modes>TE_00CD8, TE_00CE6, NULL, NULL, NULL, NULL</si_modes>\n",
      "<acis_fp_limit>-109.0</acis_fp_limit>\n",
      "<freeform_constraint>\n",
      "Window Constraint requirements exist for observation.\n",
      "WINDOW=(2023:182:00:00:00,2023:212:00:00:00)\n",
      "</freeform_constraint>\n",
      "<split_duration>14</split_duration>\n"
     ]
    }
   ],
   "source": [
    "print(obsreqs[27012][\"comment\"])"
   ]
  },
  {
   "cell_type": "code",
   "execution_count": 7,
   "metadata": {},
   "outputs": [
    {
     "name": "stdout",
     "output_type": "stream",
     "text": [
      "['cycle_number', 'sequence_number', 'si_modes', 'acis_fp_limit', 'freeform_constraint', 'split_duration']\n"
     ]
    }
   ],
   "source": [
    "import xml.etree.ElementTree as ET\n",
    "\n",
    "xml_str = \"\"\"\n",
    "<cycle_number>24</cycle_number>\n",
    "<sequence_number>590678</sequence_number>\n",
    "<si_modes>TE_00CD8, TE_00CE6, NULL, NULL, NULL, NULL</si_modes>\n",
    "<acis_fp_limit>-109.0</acis_fp_limit>\n",
    "<freeform_constraint>\n",
    "Window Constraint requirements exist for observation.\n",
    "  WINDOW=(2023:182:00:00:00,2023:212:00:00:00)\n",
    "</freeform_constraint>\n",
    "<split_duration>14</split_duration>\n",
    "\"\"\"\n",
    "\n",
    "root = ET.fromstring(\"<root>\" + xml_str + \"</root>\")\n",
    "\n",
    "tag_names = [elem.tag for elem in root]\n",
    "\n",
    "print(tag_names)\n"
   ]
  },
  {
   "cell_type": "code",
   "execution_count": 8,
   "metadata": {},
   "outputs": [],
   "source": [
    "import ast"
   ]
  },
  {
   "cell_type": "code",
   "execution_count": 9,
   "metadata": {},
   "outputs": [],
   "source": [
    "def convert_value(value: str):\n",
    "    if not isinstance(value, str):\n",
    "        raise TypeError(\"input must be str\")\n",
    "\n",
    "    try:\n",
    "        out = ast.literal_eval(value)\n",
    "    except Exception:\n",
    "        out = value\n",
    "\n",
    "    if not isinstance(out, (int, float, str)):\n",
    "        out = value\n",
    "\n",
    "    return out"
   ]
  },
  {
   "cell_type": "code",
   "execution_count": 10,
   "metadata": {},
   "outputs": [
    {
     "name": "stdout",
     "output_type": "stream",
     "text": [
      "ordereddict([('test', <Table length=2>\n",
      " col1  col2\n",
      "int64 int64\n",
      "----- -----\n",
      "    1     2\n",
      "    3     4)])\n",
      "test: !table |\n",
      "  col1 col2\n",
      "  1 2\n",
      "  3 4\n",
      "\n"
     ]
    }
   ],
   "source": [
    "from astropy.table import Table\n",
    "import io\n",
    "\n",
    "\n",
    "def table_constructor(loader, node):\n",
    "    # print(f\"table constructor {node.value=}\")\n",
    "    out = Table.read(node.value, format=\"ascii\")\n",
    "    return out\n",
    "\n",
    "\n",
    "def table_representer(dumper, data):\n",
    "    out = io.StringIO()\n",
    "    data.write(out, format=\"ascii\")\n",
    "    return dumper.represent_scalar(\"!table\", out.getvalue(), style=\"|\")\n",
    "\n",
    "\n",
    "txt = \"\"\"\\\n",
    "test: !table |\n",
    "  col1 col2\n",
    "  1 2\n",
    "  3 4\n",
    "\"\"\"\n",
    "yaml = ruamel.yaml.YAML()\n",
    "yaml.Constructor.add_constructor(\"!table\", table_constructor)\n",
    "yaml.Representer.add_representer(Table, table_representer)\n",
    "\n",
    "dat = yaml.load(txt)\n",
    "print(dat)\n",
    "out = io.StringIO()\n",
    "yaml.dump(dat, out)\n",
    "print(out.getvalue())\n"
   ]
  },
  {
   "cell_type": "code",
   "execution_count": 11,
   "metadata": {},
   "outputs": [],
   "source": [
    "from io import StringIO\n",
    "\n",
    "\n",
    "class ORListRepresenter(ruamel.yaml.representer.RoundTripRepresenter):\n",
    "    # See https://stackoverflow.com/questions/76689402\n",
    "    def __init__(self, default_style=None, default_flow_style=None, dumper=None):\n",
    "        super().__init__(\n",
    "            default_style=default_style,\n",
    "            default_flow_style=False,\n",
    "            dumper=dumper,\n",
    "        )\n",
    "\n",
    "    def represent_str(self, s):\n",
    "        if \"\\n\" in s:\n",
    "            return self.represent_scalar(\n",
    "                \"tag:yaml.org,2002:str\", dedent_text(s), style=\"|\"\n",
    "            )\n",
    "        return self.represent_scalar(\"tag:yaml.org,2002:str\", s)\n",
    "\n",
    "    def represent_sequence(self, tag, sequence, flow_style=None):\n",
    "        return super().represent_sequence(tag, sequence, flow_style=True)\n",
    "\n",
    "\n",
    "ORListRepresenter.add_representer(str, ORListRepresenter.represent_str)"
   ]
  },
  {
   "cell_type": "code",
   "execution_count": 12,
   "metadata": {},
   "outputs": [
    {
     "name": "stdout",
     "output_type": "stream",
     "text": [
      "a: hello\n",
      "b: |-\n",
      "  hello\n",
      "  there\n",
      "  world\n",
      "c: [1, 1, 1, 1, 1, 1, 1, 1, 1, 1, 1, 1, 1, 1, 1, 1, 1, 1, 1, 1, 1, 1, 1, 1, 1, 1,\n",
      "  1, 1, 1, 1, 1, 1, 1, 1, 1, 1, 1, 1, 1, 1, 1, 1, 1, 1, 1, 1, 1, 1, 1, 1, 1, 1, 1,\n",
      "  1, 1, 1, 1, 1, 1, 1, 1, 1, 1, 1, 1, 1, 1, 1, 1, 1, 1, 1, 1, 1, 1, 1, 1, 1, 1, 1,\n",
      "  1, 1, 1, 1, 1, 1, 1, 1, 1, 1, 1, 1, 1, 1, 1, 1, 1, 1, 1, 1]\n"
     ]
    }
   ],
   "source": [
    "data = {\"a\": \"hello\", \"b\": \"hello\\nthere\\nworld\", \"c\": [1] * 100}\n",
    "\n",
    "yaml = ruamel.yaml.YAML()\n",
    "yaml.Representer = ORListRepresenter\n",
    "yaml.dump(data, sys.stdout)\n"
   ]
  },
  {
   "cell_type": "code",
   "execution_count": 13,
   "metadata": {},
   "outputs": [],
   "source": [
    "def yaml_dumps(data):\n",
    "    yaml = ruamel.yaml.YAML()\n",
    "    yaml.Representer = ORListRepresenter\n",
    "\n",
    "    out = StringIO()\n",
    "    yaml.dump(data, out)\n",
    "    return out.getvalue()"
   ]
  },
  {
   "cell_type": "code",
   "execution_count": 14,
   "metadata": {},
   "outputs": [],
   "source": [
    "import re\n",
    "\n",
    "\n",
    "def get_comment_blocks(lines, include_49999=False):\n",
    "    \"\"\"Get all the comment blocks in the file as a list of dict\"\"\"\n",
    "    comment_blocks = []\n",
    "\n",
    "    idx1 = 0\n",
    "    for idx0, line in enumerate(lines):\n",
    "        if idx0 < idx1:\n",
    "            continue\n",
    "\n",
    "        if match := re.match(\n",
    "            r\"BEGIN_COMMENT \\s* , \\s* ID \\s* = \\s* (\\d+)\", line, re.VERBOSE\n",
    "        ):\n",
    "            obsid = int(match.group(1))\n",
    "            if obsid == 49999 and not include_49999:\n",
    "                continue\n",
    "            idx1 = lines.index(\"END_COMMENT\", idx0)\n",
    "            comment = \"\\n\".join(lines[idx0 + 1 : idx1])\n",
    "            comment_block = {\n",
    "                \"obsid\": obsid,\n",
    "                \"idx0\": idx0,\n",
    "                \"idx1\": idx1,\n",
    "                \"comment\": comment,\n",
    "            }\n",
    "            comment_blocks.append(comment_block)\n",
    "\n",
    "    return comment_blocks"
   ]
  },
  {
   "cell_type": "code",
   "execution_count": 15,
   "metadata": {},
   "outputs": [],
   "source": [
    "from pathlib import Path\n",
    "\n",
    "orlist_text = Path(\"example-xml.or\").read_text()\n",
    "orlist_lines = orlist_text.splitlines()"
   ]
  },
  {
   "cell_type": "code",
   "execution_count": 16,
   "metadata": {},
   "outputs": [],
   "source": [
    "comment_blocks = get_comment_blocks(orlist_lines)\n"
   ]
  },
  {
   "cell_type": "code",
   "execution_count": 17,
   "metadata": {},
   "outputs": [
    {
     "name": "stdout",
     "output_type": "stream",
     "text": [
      "{'comment': '<cycle_number>23</cycle_number>\\n'\n",
      "            '<sequence_number>201454</sequence_number>\\n'\n",
      "            '<si_modes>TE_00D50, NULL, NULL, NULL, NULL, NULL</si_modes>\\n'\n",
      "            '<acis_fp_limit>-109.0</acis_fp_limit>\\n'\n",
      "            '<phase_window>\\n'\n",
      "            '   #Start,                 End\\n'\n",
      "            '    2023:185:15:55:59.750, 2023:190:17:33:48.730\\n'\n",
      "            '</phase_window>\\n'\n",
      "            '<freeform_constraint>\\n'\n",
      "            'Remarks:\\n'\n",
      "            'Three observations are requested: conjunction with Be star in '\n",
      "            'front\\n'\n",
      "            '(phi=0.25), conjunction with companion in front (phi=0.75) and '\n",
      "            'quadrature\\n'\n",
      "            '(either phi=0 or phi=0.5)\\n'\n",
      "            '</freeform_constraint>',\n",
      " 'idx0': 350,\n",
      " 'idx1': 365,\n",
      " 'obsid': 25109}\n"
     ]
    }
   ],
   "source": [
    "pprint.pprint(comment_blocks[0])\n"
   ]
  },
  {
   "cell_type": "code",
   "execution_count": 18,
   "metadata": {},
   "outputs": [],
   "source": [
    "import re"
   ]
  },
  {
   "cell_type": "markdown",
   "metadata": {},
   "source": [
    "## Define migrations\n",
    "\n",
    "These are functions that incrementally change the OR list comments format from XML\n",
    "to YAML."
   ]
  },
  {
   "cell_type": "code",
   "execution_count": 19,
   "metadata": {},
   "outputs": [],
   "source": [
    "def convert_comma_separated_line_to_list(data):\n",
    "    for key, value in list(data.items()):\n",
    "        if not isinstance(value, str) or \"\\n\" in value or \",\" not in value:\n",
    "            continue\n",
    "        vals_str = re.split(r\"\\s*,\\s*\", value)\n",
    "        data[key] = [convert_value(val_str) for val_str in vals_str]\n"
   ]
  },
  {
   "cell_type": "code",
   "execution_count": 20,
   "metadata": {},
   "outputs": [],
   "source": [
    "COMMENT_FIELDS = {\n",
    "    \"relative_mon_window\": [\"obsid\", \"start\", \"stop\"],\n",
    "    \"absolute_mon_window\": [\"obsid\", \"start\", \"stop\"],\n",
    "}\n",
    "\n",
    "\n",
    "def convert_lists_to_dict(data):\n",
    "    for key, value in list(data.items()):\n",
    "        if key in COMMENT_FIELDS:\n",
    "            names = COMMENT_FIELDS[key]\n",
    "            assert len(names) == len(value)\n",
    "            data[key] = {name: val for name, val in zip(names, value)}\n"
   ]
  },
  {
   "cell_type": "code",
   "execution_count": 21,
   "metadata": {},
   "outputs": [],
   "source": [
    "RENAME_FIELDS = {\n",
    "    \"si_modes\": \"drop_chip_si_modes\",\n",
    "    \"freeform_constraint\": \"comment\",\n",
    "}\n",
    "\n",
    "\n",
    "def rename_fields(data):\n",
    "    out = {}\n",
    "    for key, value in data.items():\n",
    "        if key in RENAME_FIELDS:\n",
    "            out[RENAME_FIELDS[key]] = value\n",
    "        else:\n",
    "            out[key] = value\n",
    "    data.clear()\n",
    "    data.update(out)\n"
   ]
  },
  {
   "cell_type": "code",
   "execution_count": 22,
   "metadata": {},
   "outputs": [],
   "source": [
    "# Currently these boolean fields can only be True.\n",
    "BOOLEAN_FIELDS = [\"coordination_window\", \"uninterrupted\"]\n",
    "\n",
    "\n",
    "def use_boolean_type_for_boolean_fields(data):\n",
    "    for key in list(data):\n",
    "        if key in BOOLEAN_FIELDS:\n",
    "            data[key] = True"
   ]
  },
  {
   "cell_type": "code",
   "execution_count": 23,
   "metadata": {},
   "outputs": [],
   "source": [
    "TABLE_FIELDS = [\"star_field_constraints\", \"phase_window\", \"pointing\", \"roll\"]\n",
    "\n",
    "\n",
    "def use_table_tag_for_tables(lines):\n",
    "    \"\"\"\n",
    "    For any line in lines that starts with an item in TABLE_FIELDS, replace\n",
    "    it with the same line but with a !table tag prepended.\n",
    "\n",
    "    For instance replace \"phase_window: |-\" with \"phase_window: !table |-\".\n",
    "    \"\"\"\n",
    "    for ii, line in enumerate(lines):\n",
    "        for field in TABLE_FIELDS:\n",
    "            field_colon = field + \":\"\n",
    "            if field_colon in line:\n",
    "                lines[ii] = re.sub(field_colon, field_colon + \" !table\", line)"
   ]
  },
  {
   "cell_type": "code",
   "execution_count": 24,
   "metadata": {},
   "outputs": [],
   "source": [
    "def fixed_width_tables(data):\n",
    "    \"\"\"\n",
    "    Write tables in fixed width format (columns line up vertically).\n",
    "    \"\"\"\n",
    "    for key, value in list(data.items()):\n",
    "        if key in TABLE_FIELDS:\n",
    "            table = Table.read(\n",
    "                value, format=\"ascii.commented_header\", delimiter=\",\", guess=False\n",
    "            )\n",
    "            out = io.StringIO()\n",
    "            table.write(out, format=\"ascii.fixed_width_two_line\")\n",
    "            data[key] = out.getvalue()"
   ]
  },
  {
   "cell_type": "code",
   "execution_count": 25,
   "metadata": {},
   "outputs": [],
   "source": [
    "def change_drop_si_modes_from_list_to_dict(data):\n",
    "    if \"drop_chip_si_modes\" not in data:\n",
    "        return\n",
    "\n",
    "    si_modes = data[\"drop_chip_si_modes\"]\n",
    "    if not isinstance(si_modes, list):\n",
    "        return\n",
    "\n",
    "    data[\"drop_chip_si_modes\"] = {ii: si_modes[ii] for ii in range(6)}"
   ]
  },
  {
   "cell_type": "code",
   "execution_count": 26,
   "metadata": {},
   "outputs": [
    {
     "name": "stdout",
     "output_type": "stream",
     "text": [
      "   star_field_constraints: !table |2-\n",
      "   #ROLL, nominal, creep\n",
      "   81.00, -11.10, -10.10\n",
      "   82.00, -10.80, -10.10\n"
     ]
    }
   ],
   "source": [
    "txt = \"\"\"\\\n",
    "   star_field_constraints: |2-\n",
    "   #ROLL, nominal, creep\n",
    "   81.00, -11.10, -10.10\n",
    "   82.00, -10.80, -10.10\n",
    "\"\"\"\n",
    "lines = txt.splitlines()\n",
    "use_table_tag_for_tables(lines)\n",
    "print(\"\\n\".join(lines))"
   ]
  },
  {
   "cell_type": "code",
   "execution_count": 27,
   "metadata": {},
   "outputs": [],
   "source": [
    "MIGRATIONS_DATA = {\n",
    "    1: convert_comma_separated_line_to_list,\n",
    "    2: convert_lists_to_dict,\n",
    "    3: rename_fields,\n",
    "    4: use_boolean_type_for_boolean_fields,\n",
    "    5: fixed_width_tables,\n",
    "    7: change_drop_si_modes_from_list_to_dict,\n",
    "}\n",
    "\n",
    "MIGRATIONS_LINES = {\n",
    "    6: use_table_tag_for_tables,\n",
    "}\n"
   ]
  },
  {
   "cell_type": "code",
   "execution_count": 28,
   "metadata": {},
   "outputs": [],
   "source": [
    "def parse_simple_xml(obsid, text):\n",
    "    out = {}\n",
    "    try:\n",
    "        xml_str = \"<root>\" + text + \"</root>\"\n",
    "        root = ET.fromstring(xml_str)\n",
    "    except Exception as exc:\n",
    "        raise XmlCommentParseError(\n",
    "            f\"could not parse text for {obsid}:\\n{text}\"\n",
    "        ) from exc\n",
    "\n",
    "    # XML tree depth is one layer, just grab those tag names\n",
    "    tag_names = [elem.tag for elem in root]\n",
    "    for tag_name in tag_names:\n",
    "        value_str = root.find(tag_name).text\n",
    "        out[tag_name] = convert_value(value_str)\n",
    "\n",
    "    return out\n"
   ]
  },
  {
   "cell_type": "code",
   "execution_count": 29,
   "metadata": {},
   "outputs": [
    {
     "data": {
      "text/plain": [
       "{'cycle_number': 24,\n",
       " 'sequence_number': 590678,\n",
       " 'si_modes': 'TE_00CD8, TE_00CE6, NULL, NULL, NULL, NULL',\n",
       " 'acis_fp_limit': -109.0,\n",
       " 'freeform_constraint': '\\nWindow Constraint requirements exist for observation.\\nWINDOW=(2023:182:00:00:00,2023:212:00:00:00)\\n',\n",
       " 'split_duration': 14}"
      ]
     },
     "execution_count": 29,
     "metadata": {},
     "output_type": "execute_result"
    }
   ],
   "source": [
    "data = parse_simple_xml(27012, obsreqs[27012][\"comment\"])\n",
    "data"
   ]
  },
  {
   "cell_type": "code",
   "execution_count": 30,
   "metadata": {},
   "outputs": [],
   "source": [
    "def migrate_orlist_xml_to_yaml(orlist_file_xml, orlist_file_yaml, migrations=[]):\n",
    "    orlist_text = Path(orlist_file_xml).read_text()\n",
    "    orlist_lines = orlist_text.splitlines()\n",
    "    comment_blocks = get_comment_blocks(orlist_lines)\n",
    "    machine_readable_comments = []\n",
    "\n",
    "    for comment_block in reversed(comment_blocks):\n",
    "        data = parse_simple_xml(comment_block[\"obsid\"], comment_block[\"comment\"])\n",
    "        for migration in migrations:\n",
    "            func = MIGRATIONS_DATA.get(migration, lambda x: None)\n",
    "            func(data)\n",
    "\n",
    "        mrc = {\"obsid\": comment_block[\"obsid\"]}\n",
    "        mrc.update(data)\n",
    "        machine_readable_comments.append(mrc)\n",
    "\n",
    "        comment_yaml = yaml_dumps(data)\n",
    "        comment_yaml_lines = comment_yaml.splitlines()\n",
    "        for migration in migrations:\n",
    "            func = MIGRATIONS_LINES.get(migration, lambda x: None)\n",
    "            func(comment_yaml_lines)\n",
    "        idx0, idx1 = comment_block[\"idx0\"], comment_block[\"idx1\"]\n",
    "        orlist_lines = (\n",
    "            orlist_lines[: idx0 + 1] + comment_yaml_lines + orlist_lines[idx1:]\n",
    "        )\n",
    "\n",
    "    suffix = \"-\" + \"-\".join(str(m) for m in migrations) if migrations else \"\"\n",
    "    out_file = Path(orlist_file_yaml).stem + suffix + \".or\"\n",
    "    Path(out_file).write_text(\"\\n\".join(orlist_lines))\n",
    "\n",
    "    return machine_readable_comments, out_file"
   ]
  },
  {
   "cell_type": "code",
   "execution_count": 31,
   "metadata": {},
   "outputs": [
    {
     "name": "stdout",
     "output_type": "stream",
     "text": [
      "Running with 0 migrations\n",
      "Running with 1 migrations\n",
      "Running with 2 migrations\n",
      "Running with 3 migrations\n",
      "Running with 4 migrations\n",
      "Running with 5 migrations\n",
      "Running with 6 migrations\n",
      "Running with 7 migrations\n"
     ]
    }
   ],
   "source": [
    "orlist_files = [\"example-xml.or\"]\n",
    "n_migrations_all = len(MIGRATIONS_DATA) + len(MIGRATIONS_LINES)\n",
    "for n_migrations in range(n_migrations_all + 1):\n",
    "    print(f\"Running with {n_migrations} migrations\")\n",
    "    machine_readable_comments, orlist_file = migrate_orlist_xml_to_yaml(\n",
    "        \"example-xml.or\", \"example-yaml.or\", migrations=list(range(1, n_migrations + 1))\n",
    "    )\n",
    "    orlist_files.append(orlist_file)"
   ]
  },
  {
   "cell_type": "code",
   "execution_count": 32,
   "metadata": {},
   "outputs": [
    {
     "name": "stdout",
     "output_type": "stream",
     "text": [
      "Comparing example-xml.or and example-yaml.or\n",
      "Comparing example-yaml.or and example-yaml-1.or\n",
      "Comparing example-yaml-1.or and example-yaml-1-2.or\n",
      "Comparing example-yaml-1-2.or and example-yaml-1-2-3.or\n",
      "Comparing example-yaml-1-2-3.or and example-yaml-1-2-3-4.or\n",
      "Comparing example-yaml-1-2-3-4.or and example-yaml-1-2-3-4-5.or\n"
     ]
    },
    {
     "name": "stdout",
     "output_type": "stream",
     "text": [
      "Comparing example-yaml-1-2-3-4-5.or and example-yaml-1-2-3-4-5-6.or\n",
      "Comparing example-yaml-1-2-3-4-5-6.or and example-yaml-1-2-3-4-5-6-7.or\n"
     ]
    }
   ],
   "source": [
    "import difflib\n",
    "import itertools\n",
    "\n",
    "differ = difflib.HtmlDiff()\n",
    "for ii, fn0, fn1 in zip(itertools.count(), orlist_files[:-1], orlist_files[1:]):\n",
    "    print(f\"Comparing {fn0} and {fn1}\")\n",
    "    old_text = Path(fn0).read_text()\n",
    "    new_text = Path(fn1).read_text()\n",
    "    diff = differ.make_file(old_text.splitlines(), new_text.splitlines())\n",
    "    Path(f\"migration-{ii}-diff.html\").write_text(diff)"
   ]
  },
  {
   "cell_type": "code",
   "execution_count": 33,
   "metadata": {},
   "outputs": [],
   "source": [
    "import pprint\n"
   ]
  },
  {
   "cell_type": "code",
   "execution_count": 34,
   "metadata": {},
   "outputs": [
    {
     "name": "stdout",
     "output_type": "stream",
     "text": [
      "{'acis_fp_limit': -109.0,\n",
      " 'comment': '\\n'\n",
      "            'Window Constraint requirements exist for observation.\\n'\n",
      "            '  WINDOW=(2023:152:00:00:00,2023:212:00:00:00)\\n',\n",
      " 'coordination_window': True,\n",
      " 'cycle_number': 24,\n",
      " 'drop_chip_si_modes': {0: 'TE_00920',\n",
      "                        1: 'TE_0099C',\n",
      "                        2: 'TE_00B92',\n",
      "                        3: 'NULL',\n",
      "                        4: 'NULL',\n",
      "                        5: 'NULL'},\n",
      " 'obsid': 27013,\n",
      " 'sequence_number': 790381,\n",
      " 'star_field_constraints': ' ROLL nominal creep\\n'\n",
      "                           '----- ------- -----\\n'\n",
      "                           '234.0    -6.2  -6.2\\n'\n",
      "                           '235.0    -6.2  -6.2\\n'\n",
      "                           '236.0    -6.1  -6.1\\n'\n",
      "                           '237.0    -6.0  -6.0\\n'\n",
      "                           '238.0    -6.0  -6.0\\n'\n",
      "                           '239.0    -6.4  -6.4\\n'\n",
      "                           '240.0    -6.4  -6.4\\n'\n",
      "                           '241.0    -6.2  -6.2\\n'\n",
      "                           '242.0    -6.2  -6.2\\n'\n",
      "                           '243.0    -6.2  -6.2\\n'\n",
      "                           '244.0    -6.2  -6.2\\n'\n",
      "                           '245.0    -6.3  -6.3\\n'\n",
      "                           '246.0    -6.3  -6.3\\n'\n",
      "                           '247.0    -6.2  -6.0\\n'\n",
      "                           '248.0    -6.0  -6.0\\n'\n",
      "                           '249.0    -6.0  -6.0\\n'\n",
      "                           '250.0    -6.2  -6.2\\n'\n",
      "                           '251.0    -6.2  -6.2\\n'\n",
      "                           '252.0    -6.2  -6.2\\n'\n",
      "                           '253.0    -6.0  -6.0\\n'\n",
      "                           '254.0    -6.2  -6.2\\n'\n",
      "                           '255.0    -6.2  -6.2\\n'\n",
      "                           '256.0    -6.2  -6.2\\n'\n",
      "                           '257.0    -6.0  -6.0\\n'\n",
      "                           '258.0    -6.2  -6.2\\n'\n",
      "                           '259.0    -6.0  -6.0\\n'\n",
      "                           '260.0    -6.0  -6.0\\n'\n",
      "                           '261.0    -5.6  -5.4\\n',\n",
      " 'uninterrupted': True}\n"
     ]
    }
   ],
   "source": [
    "pprint.pprint(machine_readable_comments[1])\n"
   ]
  },
  {
   "cell_type": "code",
   "execution_count": 35,
   "metadata": {},
   "outputs": [
    {
     "data": {
      "text/plain": [
       "False"
      ]
     },
     "execution_count": 35,
     "metadata": {},
     "output_type": "execute_result"
    }
   ],
   "source": [
    "# Do the machine readable comments round trip through JSON?\n",
    "import json\n",
    "\n",
    "mrc_json = json.dumps(machine_readable_comments, indent=2)\n",
    "machine_readable_comments_rt = json.loads(mrc_json)\n",
    "\n",
    "machine_readable_comments == machine_readable_comments_rt\n"
   ]
  },
  {
   "cell_type": "code",
   "execution_count": null,
   "metadata": {},
   "outputs": [],
   "source": []
  }
 ],
 "metadata": {
  "kernelspec": {
   "display_name": "Python 3",
   "language": "python",
   "name": "python3"
  },
  "language_info": {
   "codemirror_mode": {
    "name": "ipython",
    "version": 3
   },
   "file_extension": ".py",
   "mimetype": "text/x-python",
   "name": "python",
   "nbconvert_exporter": "python",
   "pygments_lexer": "ipython3",
   "version": "3.10.8"
  },
  "orig_nbformat": 4
 },
 "nbformat": 4,
 "nbformat_minor": 2
}
