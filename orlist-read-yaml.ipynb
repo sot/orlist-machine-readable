{
 "cells": [
  {
   "cell_type": "markdown",
   "metadata": {},
   "source": [
    "# OR list machine-readable comments\n",
    "\n",
    "## Verify round-trip\n",
    "```\n",
    "YAML (text) from OR list [Python]\n",
    "  -> Structured data (dict, list, int, float, str, Table) [Python]\n",
    "    -> JSON (text) [Python -> MATLAB/Python]\n",
    "      -> Structured data (dict, list, int, float, str, Table -> dict of list) [MATLAB/Python]\n",
    "    <- JSON (text) [MATLAB/Python -> Python]\n",
    "  <- Structured data (dict, list, int, float, str, Table) [Python]\n",
    "<- YAML (text) round-trip [Python]\n",
    "```"
   ]
  },
  {
   "cell_type": "code",
   "execution_count": 36,
   "metadata": {},
   "outputs": [],
   "source": [
    "import io\n",
    "import pprint\n",
    "import re\n",
    "import textwrap\n",
    "import json\n",
    "\n",
    "import ruamel.yaml\n",
    "from astropy.table import Table\n",
    "from pathlib import Path"
   ]
  },
  {
   "cell_type": "code",
   "execution_count": 2,
   "metadata": {},
   "outputs": [],
   "source": [
    "def dedent_text(text):\n",
    "    text = text.lstrip(\"\\n\")\n",
    "    text = textwrap.dedent(text)\n",
    "    return text\n"
   ]
  },
  {
   "cell_type": "code",
   "execution_count": 3,
   "metadata": {},
   "outputs": [],
   "source": [
    "def table_constructor(loader, node):\n",
    "    out = Table.read(node.value, format=\"ascii.fixed_width_two_line\")\n",
    "    return out"
   ]
  },
  {
   "cell_type": "code",
   "execution_count": 4,
   "metadata": {},
   "outputs": [],
   "source": [
    "def yaml_loads(text):\n",
    "    yaml = ruamel.yaml.YAML()\n",
    "    yaml.Constructor.add_constructor(\"!table\", table_constructor)\n",
    "    data = yaml.load(text)\n",
    "    return data\n"
   ]
  },
  {
   "cell_type": "code",
   "execution_count": 5,
   "metadata": {},
   "outputs": [
    {
     "name": "stdout",
     "output_type": "stream",
     "text": [
      "ordereddict([('test', <Table length=2>\n",
      " col1  col2\n",
      "int64 int64\n",
      "----- -----\n",
      "    1     2\n",
      "    3     4)])\n"
     ]
    }
   ],
   "source": [
    "text = \"\"\"\\\n",
    "test: !table |\n",
    "  col1 col2\n",
    "  ---- ----\n",
    "     1    2\n",
    "     3    4\n",
    "\"\"\"\n",
    "yaml = ruamel.yaml.YAML()\n",
    "yaml.Constructor.add_constructor(\"!table\", table_constructor)\n",
    "\n",
    "dat = yaml.load(text)\n",
    "print(dat)"
   ]
  },
  {
   "cell_type": "code",
   "execution_count": 6,
   "metadata": {},
   "outputs": [],
   "source": [
    "class ORListRepresenter(ruamel.yaml.representer.RoundTripRepresenter):\n",
    "    # See https://stackoverflow.com/questions/76689402\n",
    "    def __init__(self, default_style=None, default_flow_style=None, dumper=None):\n",
    "        super().__init__(\n",
    "            default_style=default_style,\n",
    "            default_flow_style=False,\n",
    "            dumper=dumper,\n",
    "        )\n",
    "\n",
    "    def represent_str(self, s):\n",
    "        if \"\\n\" in s:\n",
    "            return self.represent_scalar(\n",
    "                \"tag:yaml.org,2002:str\", dedent_text(s), style=\"|\"\n",
    "            )\n",
    "        return self.represent_scalar(\"tag:yaml.org,2002:str\", s)\n",
    "\n",
    "    def represent_sequence(self, tag, sequence, flow_style=None):\n",
    "        return super().represent_sequence(tag, sequence, flow_style=True)\n",
    "\n",
    "\n",
    "def table_representer(dumper, data):\n",
    "    out = io.StringIO()\n",
    "    data.write(out, format=\"ascii.fixed_width_two_line\")\n",
    "    return dumper.represent_scalar(\"!table\", out.getvalue(), style=\"|\")\n",
    "\n",
    "\n",
    "ORListRepresenter.add_representer(str, ORListRepresenter.represent_str)\n",
    "ORListRepresenter.add_representer(Table, table_representer)"
   ]
  },
  {
   "cell_type": "code",
   "execution_count": 7,
   "metadata": {},
   "outputs": [],
   "source": [
    "def yaml_dumps(data):\n",
    "    yaml = ruamel.yaml.YAML()\n",
    "    yaml.Representer = ORListRepresenter\n",
    "\n",
    "    out = io.StringIO()\n",
    "    yaml.dump(data, out)\n",
    "    return out.getvalue()"
   ]
  },
  {
   "cell_type": "code",
   "execution_count": 8,
   "metadata": {},
   "outputs": [],
   "source": [
    "def get_comment_blocks(lines, include_49999=False):\n",
    "    \"\"\"Get all the comment blocks in the file as a list of dict\"\"\"\n",
    "    comment_blocks = []\n",
    "\n",
    "    idx1 = 0\n",
    "    for idx0, line in enumerate(lines):\n",
    "        if idx0 < idx1:\n",
    "            continue\n",
    "\n",
    "        if match := re.match(\n",
    "            r\"BEGIN_COMMENT \\s* , \\s* ID \\s* = \\s* (\\d+)\", line, re.VERBOSE\n",
    "        ):\n",
    "            obsid = int(match.group(1))\n",
    "            if obsid == 49999 and not include_49999:\n",
    "                continue\n",
    "            idx1 = lines.index(\"END_COMMENT\", idx0)\n",
    "            comment = \"\\n\".join(lines[idx0 + 1 : idx1]) + \"\\n\"\n",
    "            comment_block = {\n",
    "                \"obsid\": obsid,\n",
    "                \"idx0\": idx0,\n",
    "                \"idx1\": idx1,\n",
    "                \"comment\": comment,\n",
    "            }\n",
    "            comment_blocks.append(comment_block)\n",
    "\n",
    "    return comment_blocks"
   ]
  },
  {
   "cell_type": "markdown",
   "metadata": {},
   "source": [
    "### Read machine-readable comments as a list of strings (text)"
   ]
  },
  {
   "cell_type": "code",
   "execution_count": 26,
   "metadata": {},
   "outputs": [
    {
     "name": "stdout",
     "output_type": "stream",
     "text": [
      "CPU times: user 1.23 ms, sys: 901 µs, total: 2.13 ms\n",
      "Wall time: 1.42 ms\n"
     ]
    }
   ],
   "source": [
    "%%time\n",
    "\n",
    "orlist_text = Path(\"example-yaml-1-2-3-4-5-6.or\").read_text()\n",
    "orlist_lines = orlist_text.splitlines()\n",
    "comment_blocks = get_comment_blocks(orlist_lines)\n",
    "yaml_texts = [comment_block[\"comment\"] for comment_block in comment_blocks]"
   ]
  },
  {
   "cell_type": "code",
   "execution_count": 27,
   "metadata": {},
   "outputs": [
    {
     "name": "stdout",
     "output_type": "stream",
     "text": [
      "cycle_number: 23\n",
      "sequence_number: 201454\n",
      "drop_chip_si_modes: [TE_00D50, 'NULL', 'NULL', 'NULL', 'NULL', 'NULL']\n",
      "acis_fp_limit: -109.0\n",
      "phase_window: !table |2\n",
      "                  Start                   End\n",
      "  --------------------- ---------------------\n",
      "  2023:185:15:55:59.750 2023:190:17:33:48.730\n",
      "comment: |\n",
      "  Remarks:\n",
      "  Three observations are requested: conjunction with Be star in front\n",
      "  (phi=0.25), conjunction with companion in front (phi=0.75) and quadrature\n",
      "  (either phi=0 or phi=0.5)\n",
      "\n"
     ]
    }
   ],
   "source": [
    "print(yaml_texts[0])\n"
   ]
  },
  {
   "cell_type": "code",
   "execution_count": 11,
   "metadata": {},
   "outputs": [],
   "source": [
    "def odict_to_dict(data):\n",
    "    \"\"\"Recursively replace each OrderedDict with dict\"\"\"\n",
    "    if isinstance(data, dict):\n",
    "        data = {k: odict_to_dict(v) for k, v in data.items()}\n",
    "    elif isinstance(data, list):\n",
    "        data = [odict_to_dict(v) for v in data]\n",
    "    return data"
   ]
  },
  {
   "cell_type": "markdown",
   "metadata": {},
   "source": [
    "### Convert list of YAML text (one per obsid) to list of structured data"
   ]
  },
  {
   "cell_type": "code",
   "execution_count": 28,
   "metadata": {},
   "outputs": [],
   "source": [
    "def get_data_structs(yaml_texts) -> list[dict]:\n",
    "    \"\"\"Get data structures from YAML texts as a list of dict\"\"\"\n",
    "    data_structs = []\n",
    "\n",
    "    for yaml_text in yaml_texts:\n",
    "        data = yaml_loads(yaml_text)\n",
    "        data_structs.append(data)\n",
    "\n",
    "    return odict_to_dict(data_structs)"
   ]
  },
  {
   "cell_type": "code",
   "execution_count": 34,
   "metadata": {},
   "outputs": [
    {
     "name": "stdout",
     "output_type": "stream",
     "text": [
      "CPU times: user 46.2 ms, sys: 2.36 ms, total: 48.6 ms\n",
      "Wall time: 48 ms\n"
     ]
    }
   ],
   "source": [
    "%%time\n",
    "\n",
    "data_structs = get_data_structs(yaml_texts)"
   ]
  },
  {
   "cell_type": "code",
   "execution_count": 37,
   "metadata": {},
   "outputs": [
    {
     "name": "stdout",
     "output_type": "stream",
     "text": [
      "{'cycle_number': 23,\n",
      " 'sequence_number': 201454,\n",
      " 'drop_chip_si_modes': ['TE_00D50', 'NULL', 'NULL', 'NULL', 'NULL', 'NULL'],\n",
      " 'acis_fp_limit': -109.0,\n",
      " 'phase_window': <Table length=1>\n",
      "        Start                  End         \n",
      "        str21                 str21        \n",
      "--------------------- ---------------------\n",
      "2023:185:15:55:59.750 2023:190:17:33:48.730,\n",
      " 'comment': 'Remarks:\\n'\n",
      "            'Three observations are requested: conjunction with Be star in '\n",
      "            'front\\n'\n",
      "            '(phi=0.25), conjunction with companion in front (phi=0.75) and '\n",
      "            'quadrature\\n'\n",
      "            '(either phi=0 or phi=0.5)\\n'}\n"
     ]
    }
   ],
   "source": [
    "ds0 = data_structs[0]\n",
    "\n",
    "pprint.pprint(ds0, sort_dicts=False)"
   ]
  },
  {
   "cell_type": "markdown",
   "metadata": {},
   "source": [
    "### Encode list of data structures as a single JSON text string\n",
    "\n",
    "This could be efficiently passed to MATLAB."
   ]
  },
  {
   "cell_type": "code",
   "execution_count": 43,
   "metadata": {},
   "outputs": [],
   "source": [
    "class TableEncoder(json.JSONEncoder):\n",
    "    def default(self, obj):\n",
    "        if isinstance(obj, Table):\n",
    "            data = {\"DATA_TABLE\": True}\n",
    "            for colname in obj.colnames:\n",
    "                data[colname] = obj[colname].tolist()\n",
    "            return data\n",
    "        return json.JSONEncoder.default(self, obj)\n"
   ]
  },
  {
   "cell_type": "code",
   "execution_count": 44,
   "metadata": {},
   "outputs": [
    {
     "name": "stdout",
     "output_type": "stream",
     "text": [
      "{\n",
      "  \"cycle_number\": 23,\n",
      "  \"sequence_number\": 201454,\n",
      "  \"drop_chip_si_modes\": [\n",
      "    \"TE_00D50\",\n",
      "    \"NULL\",\n",
      "    \"NULL\",\n",
      "    \"NULL\",\n",
      "    \"NULL\",\n",
      "    \"NULL\"\n",
      "  ],\n",
      "  \"acis_fp_limit\": -109.0,\n",
      "  \"phase_window\": {\n",
      "    \"DATA_TABLE\": true,\n",
      "    \"Start\": [\n",
      "      \"2023:185:15:55:59.750\"\n",
      "    ],\n",
      "    \"End\": [\n",
      "      \"2023:190:17:33:48.730\"\n",
      "    ]\n",
      "  },\n",
      "  \"comment\": \"Remarks:\\nThree observations are requested: conjunction with Be star in front\\n(phi=0.25), conjunction with companion in front (phi=0.75) and quadrature\\n(either phi=0 or phi=0.5)\\n\"\n",
      "}\n"
     ]
    }
   ],
   "source": [
    "ds0_json = json.dumps(ds0, indent=2, cls=TableEncoder)\n",
    "print(ds0_json)\n"
   ]
  },
  {
   "cell_type": "code",
   "execution_count": 63,
   "metadata": {},
   "outputs": [
    {
     "name": "stdout",
     "output_type": "stream",
     "text": [
      "CPU times: user 301 µs, sys: 6 µs, total: 307 µs\n",
      "Wall time: 312 µs\n"
     ]
    }
   ],
   "source": [
    "%%time\n",
    "\n",
    "json_text = json.dumps(data_structs, cls=TableEncoder)"
   ]
  },
  {
   "cell_type": "markdown",
   "metadata": {},
   "source": [
    "### Decode JSON text string into a list of data structures\n",
    "\n",
    "This would be done in MATLAB. In Python this is very fast."
   ]
  },
  {
   "cell_type": "code",
   "execution_count": 64,
   "metadata": {},
   "outputs": [],
   "source": [
    "def json_loads(text):\n",
    "    data_structs: list[dict] = json.loads(text)\n",
    "    # Not recursive, only top level\n",
    "    for data_struct in data_structs:\n",
    "        for key, value in list(data_struct.items()):\n",
    "            if isinstance(value, dict) and value.pop(\"DATA_TABLE\", None):\n",
    "                data_struct[key] = Table(value)\n",
    "    return data_structs"
   ]
  },
  {
   "cell_type": "code",
   "execution_count": 65,
   "metadata": {},
   "outputs": [
    {
     "name": "stdout",
     "output_type": "stream",
     "text": [
      "CPU times: user 2.21 ms, sys: 8 µs, total: 2.22 ms\n",
      "Wall time: 2.23 ms\n"
     ]
    }
   ],
   "source": [
    "%%time\n",
    "\n",
    "json_data_structs = json_loads(json_text)"
   ]
  },
  {
   "cell_type": "code",
   "execution_count": 66,
   "metadata": {},
   "outputs": [
    {
     "name": "stdout",
     "output_type": "stream",
     "text": [
      "{'acis_fp_limit': -109.0,\n",
      " 'comment': 'Remarks:\\n'\n",
      "            'Three observations are requested: conjunction with Be star in '\n",
      "            'front\\n'\n",
      "            '(phi=0.25), conjunction with companion in front (phi=0.75) and '\n",
      "            'quadrature\\n'\n",
      "            '(either phi=0 or phi=0.5)\\n',\n",
      " 'cycle_number': 23,\n",
      " 'drop_chip_si_modes': ['TE_00D50', 'NULL', 'NULL', 'NULL', 'NULL', 'NULL'],\n",
      " 'phase_window': <Table length=1>\n",
      "        Start                  End         \n",
      "        str21                 str21        \n",
      "--------------------- ---------------------\n",
      "2023:185:15:55:59.750 2023:190:17:33:48.730,\n",
      " 'sequence_number': 201454}\n"
     ]
    }
   ],
   "source": [
    "pprint.pprint(json_data_structs[0])"
   ]
  },
  {
   "cell_type": "markdown",
   "metadata": {},
   "source": [
    "### List of data structures back to JSON text\n",
    "\n",
    "Would be done in MATLAB if any machine-readable comments should be updated by ORviewer."
   ]
  },
  {
   "cell_type": "code",
   "execution_count": 68,
   "metadata": {},
   "outputs": [],
   "source": [
    "json_text_rt = json.dumps(json_data_structs, cls=TableEncoder)"
   ]
  },
  {
   "cell_type": "markdown",
   "metadata": {},
   "source": [
    "### JSON text back to list of data structures (one per obsid)\n",
    "\n",
    "Would be done in Python."
   ]
  },
  {
   "cell_type": "code",
   "execution_count": 69,
   "metadata": {},
   "outputs": [],
   "source": [
    "json_data_structures_rt = json_loads(json_text_rt)\n"
   ]
  },
  {
   "cell_type": "code",
   "execution_count": 70,
   "metadata": {},
   "outputs": [
    {
     "name": "stdout",
     "output_type": "stream",
     "text": [
      "{'acis_fp_limit': -109.0,\n",
      " 'comment': 'Remarks:\\n'\n",
      "            'Three observations are requested: conjunction with Be star in '\n",
      "            'front\\n'\n",
      "            '(phi=0.25), conjunction with companion in front (phi=0.75) and '\n",
      "            'quadrature\\n'\n",
      "            '(either phi=0 or phi=0.5)\\n',\n",
      " 'cycle_number': 23,\n",
      " 'drop_chip_si_modes': ['TE_00D50', 'NULL', 'NULL', 'NULL', 'NULL', 'NULL'],\n",
      " 'phase_window': <Table length=1>\n",
      "        Start                  End         \n",
      "        str21                 str21        \n",
      "--------------------- ---------------------\n",
      "2023:185:15:55:59.750 2023:190:17:33:48.730,\n",
      " 'sequence_number': 201454}\n"
     ]
    }
   ],
   "source": [
    "pprint.pprint(json_data_structures_rt[0])\n"
   ]
  },
  {
   "cell_type": "code",
   "execution_count": null,
   "metadata": {},
   "outputs": [],
   "source": []
  },
  {
   "cell_type": "code",
   "execution_count": 22,
   "metadata": {},
   "outputs": [
    {
     "name": "stdout",
     "output_type": "stream",
     "text": [
      "cycle_number: 23\n",
      "sequence_number: 201454\n",
      "drop_chip_si_modes: [TE_00D50, 'NULL', 'NULL', 'NULL', 'NULL', 'NULL']\n",
      "acis_fp_limit: -109.0\n",
      "phase_window: !table |2\n",
      "                  Start                   End\n",
      "  --------------------- ---------------------\n",
      "  2023:185:15:55:59.750 2023:190:17:33:48.730\n",
      "comment: |\n",
      "  Remarks:\n",
      "  Three observations are requested: conjunction with Be star in front\n",
      "  (phi=0.25), conjunction with companion in front (phi=0.75) and quadrature\n",
      "  (either phi=0 or phi=0.5)\n",
      "\n"
     ]
    }
   ],
   "source": [
    "mrc0_rt_yaml = yaml_dumps(mrc0_rt)\n",
    "print(mrc0_rt_yaml)"
   ]
  },
  {
   "cell_type": "code",
   "execution_count": 23,
   "metadata": {},
   "outputs": [
    {
     "name": "stdout",
     "output_type": "stream",
     "text": [
      "cycle_number: 23\n",
      "sequence_number: 201454\n",
      "drop_chip_si_modes: [TE_00D50, 'NULL', 'NULL', 'NULL', 'NULL', 'NULL']\n",
      "acis_fp_limit: -109.0\n",
      "phase_window: !table |2\n",
      "                  Start                   End\n",
      "  --------------------- ---------------------\n",
      "  2023:185:15:55:59.750 2023:190:17:33:48.730\n",
      "comment: |\n",
      "  Remarks:\n",
      "  Three observations are requested: conjunction with Be star in front\n",
      "  (phi=0.25), conjunction with companion in front (phi=0.75) and quadrature\n",
      "  (either phi=0 or phi=0.5)\n",
      "\n"
     ]
    }
   ],
   "source": [
    "print(comment_blocks[0][\"comment\"])\n"
   ]
  },
  {
   "cell_type": "code",
   "execution_count": 24,
   "metadata": {},
   "outputs": [
    {
     "data": {
      "text/plain": [
       "True"
      ]
     },
     "execution_count": 24,
     "metadata": {},
     "output_type": "execute_result"
    }
   ],
   "source": [
    "comment_blocks[0][\"comment\"].strip(\"\\n\") == mrc0_rt_yaml.strip(\"\\n\")\n"
   ]
  },
  {
   "cell_type": "code",
   "execution_count": null,
   "metadata": {},
   "outputs": [],
   "source": []
  }
 ],
 "metadata": {
  "kernelspec": {
   "display_name": "Python 3",
   "language": "python",
   "name": "python3"
  },
  "language_info": {
   "codemirror_mode": {
    "name": "ipython",
    "version": 3
   },
   "file_extension": ".py",
   "mimetype": "text/x-python",
   "name": "python",
   "nbconvert_exporter": "python",
   "pygments_lexer": "ipython3",
   "version": "3.10.8"
  },
  "orig_nbformat": 4
 },
 "nbformat": 4,
 "nbformat_minor": 2
}
